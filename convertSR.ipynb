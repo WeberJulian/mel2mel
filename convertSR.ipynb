{
 "metadata": {
  "language_info": {
   "codemirror_mode": {
    "name": "ipython",
    "version": 3
   },
   "file_extension": ".py",
   "mimetype": "text/x-python",
   "name": "python",
   "nbconvert_exporter": "python",
   "pygments_lexer": "ipython3",
   "version": 3
  },
  "orig_nbformat": 2,
  "kernelspec": {
   "name": "python_defaultSpec_1598349120355",
   "display_name": "Python 3.7.7 64-bit ('TTS': conda)"
  }
 },
 "nbformat": 4,
 "nbformat_minor": 2,
 "cells": [
  {
   "cell_type": "code",
   "execution_count": 20,
   "metadata": {},
   "outputs": [],
   "source": [
    "import librosa\n",
    "import glob\n",
    "from tqdm import tqdm"
   ]
  },
  {
   "cell_type": "code",
   "execution_count": 21,
   "metadata": {},
   "outputs": [],
   "source": [
    "files = glob.glob('mailabs2/**/*.wav',recursive=True)"
   ]
  },
  {
   "cell_type": "code",
   "execution_count": 22,
   "metadata": {},
   "outputs": [],
   "source": [
    "TARGET_SR = 22050"
   ]
  },
  {
   "cell_type": "code",
   "execution_count": 23,
   "metadata": {
    "tags": []
   },
   "outputs": [
    {
     "output_type": "stream",
     "name": "stderr",
     "text": "100%|██████████| 25588/25588 [57:32<00:00,  7.41it/s]\n"
    }
   ],
   "source": [
    "for file in tqdm(files):\n",
    "    y, sr = librosa.load(file)\n",
    "    librosa.resample(y, sr, TARGET_SR)\n",
    "    librosa.output.write_wav(file, y, TARGET_SR)"
   ]
  }
 ]
}